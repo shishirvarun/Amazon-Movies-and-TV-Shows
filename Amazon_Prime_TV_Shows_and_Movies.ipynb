{
  "nbformat": 4,
  "nbformat_minor": 0,
  "metadata": {
    "colab": {
      "private_outputs": true,
      "provenance": [],
      "collapsed_sections": [
        "vncDsAP0Gaoa"
      ]
    },
    "kernelspec": {
      "name": "python3",
      "display_name": "Python 3"
    },
    "language_info": {
      "name": "python"
    }
  },
  "cells": [
    {
      "cell_type": "markdown",
      "source": [
        "# **Amazon Prime TV Shows and Movies**\n",
        "\n"
      ],
      "metadata": {
        "id": "vncDsAP0Gaoa"
      }
    },
    {
      "cell_type": "markdown",
      "source": [
        "# **Project Summary -**"
      ],
      "metadata": {
        "id": "FJNUwmbgGyua"
      }
    },
    {
      "cell_type": "markdown",
      "source": [
        "This comprehensive Exploratory Data Analysis (EDA) project focuses on analyzing Amazon Prime's content library to extract actionable business insights from their TV shows and movies catalog. The analysis combines two primary datasets - titles and credits information - to provide a holistic view of Amazon Prime's content strategy, quality metrics, and market positioning.\n",
        "\n",
        "### **Project Scope and Objectives**\n",
        "\n",
        "The project addresses four critical business questions that directly impact Amazon Prime's content acquisition and strategic planning decisions. First, we examine which genres and categories dominate the platform to understand content distribution patterns and identify potential gaps in the catalog. Second, we analyze how content distribution varies across different regions to assess Amazon Prime's global market penetration and international content sourcing strategies. Third, we investigate how Amazon's content library has evolved over time, revealing trends in content acquisition, quality improvements, and strategic shifts. Finally, we identify the highest-rated and most popular shows on the platform to understand what drives audience satisfaction and engagement.\n",
        "\n",
        "### **Data Processing and Methodology**\n",
        "\n",
        "The analysis begins with comprehensive data wrangling to ensure dataset quality and analytical readiness. We merge the titles and credits datasets to create a unified analytical framework, followed by systematic handling of missing values, data type conversions, and feature engineering. Key manipulations include creating temporal groupings (decades), content age calculations, runtime categorizations, and geographic data processing. We implement robust outlier detection using the IQR method while preserving exceptional content for strategic insights. The data cleaning process also involves extracting primary genres from multi-genre classifications and standardizing country information for geographic analysis.\n",
        "\n",
        "### **Visualization Strategy and Insights**\n",
        "\n",
        "The project employs fifteen distinct visualization techniques, each strategically selected to address specific analytical questions. Our visualization portfolio includes distribution analyses through pie charts and histograms, temporal trend analysis using area plots, comparative analysis via horizontal bar charts and box plots, relationship exploration through correlation heatmaps and scatter plots, and specialized analyses like violin plots for runtime distributions. Each chart is enhance\n"
      ],
      "metadata": {
        "id": "F6v_1wHtG2nS"
      }
    },
    {
      "cell_type": "markdown",
      "source": [],
      "metadata": {
        "id": "dLFGnd4UoQh2"
      }
    },
    {
      "cell_type": "markdown",
      "source": [
        "# **GitHub Link - https://github.com/shishirvarun/Amazon-Movies-and-TV-Shows.git **"
      ],
      "metadata": {
        "id": "w6K7xa23Elo4"
      }
    },
    {
      "cell_type": "markdown",
      "source": [
        "Provide your GitHub Link here."
      ],
      "metadata": {
        "id": "h1o69JH3Eqqn"
      }
    },
    {
      "cell_type": "markdown",
      "source": [
        "# **Problem Statement**\n",
        "\n",
        "1. What genres and categories dominate the platform?\n",
        "2. How does the content distribution vary across different regions?\n",
        "3. How has Amazon's content library evolved?\n",
        "4. What are the highest-rated or most popular shows on platforms?\n",
        "\n",
        "\n",
        "\n",
        "\n"
      ],
      "metadata": {
        "id": "yQaldy8SH6Dl"
      }
    },
    {
      "cell_type": "code",
      "source": [],
      "metadata": {
        "id": "-qM-WaMdpkLg"
      },
      "execution_count": null,
      "outputs": []
    },
    {
      "cell_type": "markdown",
      "source": [
        "## ***1. Know Your Data***"
      ],
      "metadata": {
        "id": "HhfV-JJviCcP"
      }
    },
    {
      "cell_type": "markdown",
      "source": [
        "### Import Libraries"
      ],
      "metadata": {
        "id": "Y3lxredqlCYt"
      }
    },
    {
      "cell_type": "code",
      "source": [
        "import pandas as pd\n",
        "import numpy as np\n",
        "import matplotlib.pyplot as plt\n",
        "import seaborn as sns"
      ],
      "metadata": {
        "id": "M8Vqi-pPk-HR"
      },
      "execution_count": null,
      "outputs": []
    },
    {
      "cell_type": "markdown",
      "source": [
        "### Dataset Loading"
      ],
      "metadata": {
        "id": "3RnN4peoiCZX"
      }
    },
    {
      "cell_type": "code",
      "source": [
        "titles_df = pd.read_csv('titles.csv')\n",
        "credits_df = pd.read_csv('credits.csv')\n"
      ],
      "metadata": {
        "id": "4CkvbW_SlZ_R"
      },
      "execution_count": null,
      "outputs": []
    },
    {
      "cell_type": "markdown",
      "source": [
        "### Dataset First View"
      ],
      "metadata": {
        "id": "x71ZqKXriCWQ"
      }
    },
    {
      "cell_type": "code",
      "source": [
        "titles_df\n",
        "credits_df"
      ],
      "metadata": {
        "id": "LWNFOSvLl09H"
      },
      "execution_count": null,
      "outputs": []
    },
    {
      "cell_type": "markdown",
      "source": [
        "### Dataset Rows & Columns count"
      ],
      "metadata": {
        "id": "7hBIi_osiCS2"
      }
    },
    {
      "cell_type": "code",
      "source": [
        "titles_df.shape"
      ],
      "metadata": {
        "id": "Kllu7SJgmLij"
      },
      "execution_count": null,
      "outputs": []
    },
    {
      "cell_type": "code",
      "source": [
        "credits_df.shape"
      ],
      "metadata": {
        "id": "yUiwSD0qsYVa"
      },
      "execution_count": null,
      "outputs": []
    },
    {
      "cell_type": "markdown",
      "source": [
        "### Dataset Information"
      ],
      "metadata": {
        "id": "JlHwYmJAmNHm"
      }
    },
    {
      "cell_type": "code",
      "source": [
        "titles_df.info()\n",
        "credits_df.info()"
      ],
      "metadata": {
        "id": "e9hRXRi6meOf"
      },
      "execution_count": null,
      "outputs": []
    },
    {
      "cell_type": "markdown",
      "source": [
        "#### Duplicate Values"
      ],
      "metadata": {
        "id": "35m5QtbWiB9F"
      }
    },
    {
      "cell_type": "code",
      "source": [
        "duplicates = titles_df.duplicated()\n",
        "print(\"Number of duplicate rows:\", duplicates.sum())"
      ],
      "metadata": {
        "id": "1sLdpKYkmox0"
      },
      "execution_count": null,
      "outputs": []
    },
    {
      "cell_type": "code",
      "source": [
        "duplicates = credits_df.duplicated()\n",
        "print(\"Number of duplicate rows:\", duplicates.sum())"
      ],
      "metadata": {
        "id": "UO5pz9xcs3Cy"
      },
      "execution_count": null,
      "outputs": []
    },
    {
      "cell_type": "markdown",
      "source": [
        "#### Missing Values/Null Values"
      ],
      "metadata": {
        "id": "PoPl-ycgm1ru"
      }
    },
    {
      "cell_type": "code",
      "source": [
        "titles_df.isnull().sum()"
      ],
      "metadata": {
        "id": "GgHWkxvamxVg"
      },
      "execution_count": null,
      "outputs": []
    },
    {
      "cell_type": "code",
      "source": [
        "credits_df.isnull().sum()"
      ],
      "metadata": {
        "id": "WKAU3T7rte7r"
      },
      "execution_count": null,
      "outputs": []
    },
    {
      "cell_type": "code",
      "source": [
        "titles_df.isna().sum().plot(kind='bar')\n",
        "plt.title('Missing Values per Column')\n",
        "plt.ylabel('Number of Missing Values')\n",
        "plt.show()\n"
      ],
      "metadata": {
        "id": "3q5wnI3om9sJ"
      },
      "execution_count": null,
      "outputs": []
    },
    {
      "cell_type": "code",
      "source": [
        "credits_df.isna().sum().plot(kind='bar')\n",
        "plt.title('Missing Values per Column')\n",
        "plt.ylabel('Number of Missing Values')\n",
        "plt.show()\n"
      ],
      "metadata": {
        "id": "vi-lQqgCt486"
      },
      "execution_count": null,
      "outputs": []
    },
    {
      "cell_type": "markdown",
      "source": [
        "### Merging Dataset"
      ],
      "metadata": {
        "id": "H0kj-8xxnORC"
      }
    },
    {
      "cell_type": "code",
      "source": [
        "# Merge datasets on the 'id' column\n",
        "merged_df = pd.merge(titles_df, credits_df, on='id', how='left')\n",
        "merged_df"
      ],
      "metadata": {
        "id": "qGdohBpLv18p"
      },
      "execution_count": null,
      "outputs": []
    },
    {
      "cell_type": "markdown",
      "source": [
        "## ***2. Understanding Your Variables***"
      ],
      "metadata": {
        "id": "nA9Y7ga8ng1Z"
      }
    },
    {
      "cell_type": "code",
      "source": [
        "merged_df.columns"
      ],
      "metadata": {
        "id": "j7xfkqrt5Ag5"
      },
      "execution_count": null,
      "outputs": []
    },
    {
      "cell_type": "code",
      "source": [
        "merged_df.describe()"
      ],
      "metadata": {
        "id": "DnOaZdaE5Q5t"
      },
      "execution_count": null,
      "outputs": []
    },
    {
      "cell_type": "markdown",
      "source": [
        "### Check Unique Values for each variable."
      ],
      "metadata": {
        "id": "u3PMJOP6ngxN"
      }
    },
    {
      "cell_type": "code",
      "source": [
        "merged_df.nunique()"
      ],
      "metadata": {
        "id": "zms12Yq5n-jE"
      },
      "execution_count": null,
      "outputs": []
    },
    {
      "cell_type": "markdown",
      "source": [
        "## 3. ***Data Wrangling***"
      ],
      "metadata": {
        "id": "dauF4eBmngu3"
      }
    },
    {
      "cell_type": "markdown",
      "source": [
        "# Converted Data Types\n"
      ],
      "metadata": {
        "id": "bKJF3rekwFvQ"
      }
    },
    {
      "cell_type": "code",
      "source": [
        "merged_df['release_year'] = pd.to_numeric(merged_df['release_year'], errors='coerce')\n",
        "merged_df['runtime'] = pd.to_numeric(merged_df['runtime'], errors='coerce')\n",
        "merged_df['imdb_score'] = pd.to_numeric(merged_df['imdb_score'], errors='coerce')\n",
        "merged_df['imdb_votes'] = pd.to_numeric(merged_df['imdb_votes'], errors='coerce')\n",
        "merged_df"
      ],
      "metadata": {
        "id": "v3RpEqz-xx1U"
      },
      "execution_count": null,
      "outputs": []
    },
    {
      "cell_type": "markdown",
      "source": [
        "#Creating New Features"
      ],
      "metadata": {
        "id": "rrS_kWV-x8wT"
      }
    },
    {
      "cell_type": "code",
      "source": [
        "merged_df['decade'] = (merged_df['release_year'] // 10) * 10\n",
        "merged_df['content_age'] = 2024 - merged_df['release_year']\n",
        "merged_df['is_recent'] = merged_df['release_year'] >= 2020\n",
        "merged_df"
      ],
      "metadata": {
        "id": "eg-eRQ89yCL_"
      },
      "execution_count": null,
      "outputs": []
    },
    {
      "cell_type": "markdown",
      "source": [
        "#Splitting Genres for Analysis\n"
      ],
      "metadata": {
        "id": "HN33qeAlyaaI"
      }
    },
    {
      "cell_type": "code",
      "source": [
        "merged_df['primary_genre'] = merged_df['genres'].str.split(',').str[0]\n",
        "merged_df"
      ],
      "metadata": {
        "id": "PbpfV_QZycfa"
      },
      "execution_count": null,
      "outputs": []
    },
    {
      "cell_type": "markdown",
      "source": [
        "#Categorizing Runtime\n"
      ],
      "metadata": {
        "id": "S7bGySRPyqwL"
      }
    },
    {
      "cell_type": "code",
      "source": [
        "def categorize_runtime(runtime):\n",
        "    if pd.isna(runtime):\n",
        "        return 'Unknown'\n",
        "    elif runtime <= 30:\n",
        "        return 'Short (≤30 min)'\n",
        "    elif runtime <= 90:\n",
        "        return 'Medium (31-90 min)'\n",
        "    elif runtime <= 150:\n",
        "        return 'Long (91-150 min)'\n",
        "    else:\n",
        "        return 'Very Long (>150 min)'\n",
        "\n",
        "merged_df['runtime_category'] = merged_df['runtime'].apply(categorize_runtime)\n",
        "merged_df"
      ],
      "metadata": {
        "id": "jE2ODKilyukW"
      },
      "execution_count": null,
      "outputs": []
    },
    {
      "cell_type": "markdown",
      "source": [
        "#Cleaning and processing country data"
      ],
      "metadata": {
        "id": "iwIckalFzPXK"
      }
    },
    {
      "cell_type": "code",
      "source": [
        "merged_df['primary_country'] = merged_df['production_countries'].str.split(',').str[0]\n",
        "merged_df"
      ],
      "metadata": {
        "id": "Ov9Ia_0xzUiM"
      },
      "execution_count": null,
      "outputs": []
    },
    {
      "cell_type": "markdown",
      "source": [
        "#Handling outliers in IMDB scores"
      ],
      "metadata": {
        "id": "keokC86fzfjy"
      }
    },
    {
      "cell_type": "code",
      "source": [
        "# Calculating IQR\n",
        "Q1 = merged_df['imdb_score'].quantile(0.25)\n",
        "Q3 = merged_df['imdb_score'].quantile(0.75)\n",
        "IQR = Q3 - Q1\n",
        "\n",
        "# Defining outlier bounds\n",
        "lower_bound = Q1 - 1.5 * IQR\n",
        "upper_bound = Q3 + 1.5 * IQR\n",
        "\n",
        "# Filtering the DataFrame to remove outliers\n",
        "filtered_df = merged_df[(merged_df['imdb_score'] >= lower_bound) & (merged_df['imdb_score'] <= upper_bound)]\n",
        "\n",
        "\n",
        "top_rated = filtered_df.sort_values(by='imdb_score', ascending=False)\n",
        "\n",
        "top_rated[['title', 'imdb_score', 'imdb_votes']].head(10)"
      ],
      "metadata": {
        "id": "InS06vRuzkZe"
      },
      "execution_count": null,
      "outputs": []
    },
    {
      "cell_type": "code",
      "source": [
        "import matplotlib.pyplot as plt\n",
        "import seaborn as sns\n",
        "\n",
        "sns.set(style=\"whitegrid\")\n",
        "\n",
        "# Creating boxplot for IMDb scores\n",
        "plt.figure(figsize=(10, 5))\n",
        "sns.boxplot(x=merged_df['imdb_score'])\n",
        "\n",
        "# Adding IQR bounds as lines\n",
        "plt.axvline(lower_bound, color='red', linestyle='--', label='Lower Bound')\n",
        "plt.axvline(upper_bound, color='green', linestyle='--', label='Upper Bound')\n",
        "\n",
        "plt.title('Boxplot of IMDb Scores with IQR Outlier Bounds')\n",
        "plt.xlabel('IMDb Score')\n",
        "plt.legend()\n",
        "plt.show()\n"
      ],
      "metadata": {
        "id": "Tdah979m1pPp"
      },
      "execution_count": null,
      "outputs": []
    },
    {
      "cell_type": "markdown",
      "source": [
        "###  Insights from IMDb Score Box Plot\n",
        "\n",
        "1. **Central Tendency**  \n",
        "   - The **median IMDb score** likely falls around **6.5 to 7.0**, suggesting that the typical content on the platform receives moderately good ratings.\n",
        "\n",
        "2. **Spread of Ratings**  \n",
        "   - The **interquartile range (IQR)** shows a fairly compact spread, indicating that most content is clustered within a relatively narrow rating band.\n",
        "   - This suggests consistent average-quality production.\n",
        "\n",
        "3. **Outliers**  \n",
        "   - Many **outliers exist on the higher end (above 8.5 or 9.0)**. These are typically **critically acclaimed or cult-favorite titles**.\n",
        "   - There may also be **low-end outliers (below 3.5)** — potentially failed shows or movies with limited audience appeal.\n",
        "\n",
        "4. **Skewness**  \n",
        "   - If the whiskers stretch more on one side, it reflects **skewness** in the distribution:\n",
        "     - **Right-skew** (longer tail to the right): Indicates more **highly rated outliers** — common in media.\n",
        "     - **Left-skew** (longer tail to the left): Shows **underperforming content**, though usually fewer in number.\n",
        "\n",
        "5. **Platform Content Quality**  \n",
        "   - The tight clustering of scores within the IQR suggests a baseline **quality consistency**.\n",
        "   - High-end outliers point to the presence of **exceptionally well-received** content in the catalog.\n"
      ],
      "metadata": {
        "id": "yOei2UxF12_W"
      }
    },
    {
      "cell_type": "markdown",
      "source": [
        "### What all manipulations have you done and insights you found?**"
      ],
      "metadata": {
        "id": "MSa1f5Uengrz"
      }
    },
    {
      "cell_type": "markdown",
      "source": [
        "###  Key Manipulations Performed:\n",
        "\n",
        "- **Missing Value Treatment**: Filled missing values in categorical columns with appropriate defaults (`'Not Rated'`, `'Unknown'`)\n",
        "- **Data Type Conversion**: Converted numeric columns to proper data types for analysis\n",
        "- **Feature Engineering**: Created decade groupings, content age, and recency flags\n",
        "- **Genre Processing**: Extracted primary genres from comma-separated genre lists\n",
        "- **Runtime Categorization**: Grouped content by runtime duration for better analysis\n",
        "- **Country Processing**: Extracted primary production countries\n",
        "- **Outlier Detection**: Identified but preserved outliers in IMDB scores for further investigation\n",
        "\n",
        "---\n",
        "\n",
        "###  Initial Insights:\n",
        "\n",
        "- The dataset likely contains content spanning **multiple decades**\n",
        "- **Runtime varies** significantly across different content types\n",
        "- **Genre distribution** shows content diversity on the platform\n",
        "- **Missing data patterns** reveal data collection challenges for older content\n"
      ],
      "metadata": {
        "id": "LbyXE7I1olp8"
      }
    },
    {
      "cell_type": "markdown",
      "source": [
        "## ***4. Data Vizualization, Storytelling & Experimenting with charts : Understand the relationships between variables***"
      ],
      "metadata": {
        "id": "GF8Ens_Soomf"
      }
    },
    {
      "cell_type": "markdown",
      "source": [
        "#### Pie Chart"
      ],
      "metadata": {
        "id": "0wOQAZs5pc--"
      }
    },
    {
      "cell_type": "code",
      "source": [
        "plt.figure(figsize=(10, 6))\n",
        "content_counts = merged_df['type'].value_counts()\n",
        "colors = ['#FF6B6B', '#4ECDC4']\n",
        "plt.pie(content_counts.values, labels=content_counts.index, autopct='%1.1f%%',\n",
        "        colors=colors, startangle=90)\n",
        "plt.title('Distribution of Content Types on Amazon Prime', fontsize=16, fontweight='bold')\n",
        "plt.axis('equal')\n",
        "plt.show()\n"
      ],
      "metadata": {
        "id": "7v_ESjsspbW7"
      },
      "execution_count": null,
      "outputs": []
    },
    {
      "cell_type": "markdown",
      "source": [
        "##### 1. Why did you pick the specific chart?"
      ],
      "metadata": {
        "id": "K5QZ13OEpz2H"
      }
    },
    {
      "cell_type": "markdown",
      "source": [
        "I chose Pie Chart because it specifically shows the distribution of Movies and TV Show"
      ],
      "metadata": {
        "id": "XESiWehPqBRc"
      }
    },
    {
      "cell_type": "markdown",
      "source": [
        "##### 2. What is/are the insight(s) found from the chart?"
      ],
      "metadata": {
        "id": "lQ7QKXXCp7Bj"
      }
    },
    {
      "cell_type": "markdown",
      "source": [
        "93.2% content on Amazon prime is Movies while only 6.8% is of TV Shows"
      ],
      "metadata": {
        "id": "C_j1G7yiqdRP"
      }
    },
    {
      "cell_type": "markdown",
      "source": [
        "#### Stacked Area Chart"
      ],
      "metadata": {
        "id": "KSlN3yHqYklG"
      }
    },
    {
      "cell_type": "code",
      "source": [
        "plt.figure(figsize=(14, 8))\n",
        "yearly_content = merged_df.groupby(['release_year', 'type']).size().unstack(fill_value=0)\n",
        "yearly_content.plot(kind='area', stacked=True, alpha=0.7, color=['#FF6B6B', '#4ECDC4'])\n",
        "plt.title('Amazon Prime Content Release Trends Over Time', fontsize=16, fontweight='bold')\n",
        "plt.xlabel('Release Year', fontsize=12)\n",
        "plt.ylabel('Number of Titles', fontsize=12)\n",
        "plt.legend(title='Content Type')\n",
        "plt.grid(True, alpha=0.3)\n",
        "plt.show()\n"
      ],
      "metadata": {
        "id": "R4YgtaqtYklH"
      },
      "execution_count": null,
      "outputs": []
    },
    {
      "cell_type": "markdown",
      "source": [
        "##### 1. Why did you pick the specific chart?"
      ],
      "metadata": {
        "id": "t6dVpIINYklI"
      }
    },
    {
      "cell_type": "markdown",
      "source": [
        "Area charts are perfect for showing how values change over time.\n",
        "\n",
        "In this case, it clearly shows how the volume of Amazon Prime content has grown year by year.\n",
        "\n"
      ],
      "metadata": {
        "id": "5aaW0BYyYklI"
      }
    },
    {
      "cell_type": "markdown",
      "source": [
        "This visualization is a **stacked area chart**, which shows how the number of Amazon Prime titles released each year has evolved over time, separated by content type (e.g., `MOVIE` and `SHOW`).\n",
        "\n",
        "- **X-axis**: Release Year\n",
        "- **Y-axis**: Number of Titles\n",
        "- **Colors**: Different content types\n",
        "- **Chart Purpose**: To visualize growth trends and the balance between shows and movies over time.\n",
        "\n",
        "---\n",
        "\n",
        "###  Insights from the Amazon Prime Content Release Trends\n",
        "\n",
        "1. **Growth Over Time**\n",
        "   - There is a strong **upward trend** in content releases, especially after the mid-2010s.\n",
        "   - Reflects Amazon Prime’s **aggressive expansion** in digital entertainment and original content.\n",
        "\n",
        "2. **Movies vs Shows**\n",
        "   - **Movies** have historically made up the majority of content.\n",
        "   - However, **TV shows** have grown in proportion, indicating increased focus on **episodic content and binge-watching behavior**.\n",
        "\n",
        "3. **Recent Peaks**\n",
        "   - Peaks around **2019–2021** may correspond to increased production and consumption during the **COVID-19 pandemic**.\n",
        "\n",
        "4. **Historical Content Presence**\n",
        "   - Some content dates back several decades, representing **licensed or classic titles** added to enrich the library.\n",
        "\n",
        "5. **Platform Maturity**\n",
        "   - Early years show minimal content, consistent with Amazon Prime's **initial rollout and experimentation phase**.\n",
        "\n"
      ],
      "metadata": {
        "id": "ijmpgYnKYklI"
      }
    },
    {
      "cell_type": "markdown",
      "source": [],
      "metadata": {
        "id": "TZGTonH2-4cu"
      }
    },
    {
      "cell_type": "markdown",
      "source": [
        "###  Chart Type: Horizontal Bar Chart\n",
        "\n"
      ],
      "metadata": {
        "id": "PSx9atu2YklI"
      }
    },
    {
      "cell_type": "code",
      "source": [
        "plt.figure(figsize=(12, 8))\n",
        "top_genres = merged_df['primary_genre'].value_counts().head(10)\n",
        "sns.barplot(x=top_genres.values, y=top_genres.index, palette='viridis')\n",
        "plt.title('Top 10 Genres on Amazon Prime', fontsize=16, fontweight='bold')\n",
        "plt.xlabel('Number of Titles', fontsize=12)\n",
        "plt.ylabel('Genre', fontsize=12)\n",
        "for i, v in enumerate(top_genres.values):\n",
        "    plt.text(v + 0.1, i, str(v), va='center', fontweight='bold')\n",
        "plt.tight_layout()\n",
        "plt.show()"
      ],
      "metadata": {
        "id": "t6GMdE67YoAp"
      },
      "execution_count": null,
      "outputs": []
    },
    {
      "cell_type": "markdown",
      "source": [
        "##### 1. Why did you pick the specific chart?"
      ],
      "metadata": {
        "id": "fge-S5ZAYoAp"
      }
    },
    {
      "cell_type": "markdown",
      "source": [
        "Optimal for Categorical Comparison,\n",
        "Effective Visual Ranking,\n",
        "Enhanced with Data Labels"
      ],
      "metadata": {
        "id": "5dBItgRVYoAp"
      }
    },
    {
      "cell_type": "markdown",
      "source": [
        "##### 2. What is/are the insight(s) found from the chart?"
      ],
      "metadata": {
        "id": "85gYPyotYoAp"
      }
    },
    {
      "cell_type": "markdown",
      "source": [
        "###  Insights from the Top 10 Genres on Amazon Prime\n",
        "\n",
        "1. **Dominant Genres**\n",
        "   - Genres like **Drama**, **Comedy**, and **Documentary** are the most prevalent.\n",
        "   - This suggests Amazon Prime focuses heavily on **story-driven and character-based content**, as well as **informative programming**.\n",
        "\n",
        "2. **Diverse Content Offerings**\n",
        "   - Other top genres such as **Action**, **Thriller**, and **Romance** highlight genre variety and appeal to broad audience interests.\n",
        "\n",
        "3. **Drama Leads by a Significant Margin**\n",
        "   - The bar for Drama is much longer than the others, indicating it is by far the **most common genre**, possibly due to its flexibility across both shows and movies.\n",
        "\n",
        "4. **Genre Strategy**\n",
        "   - The platform appears to maintain a **balanced mix** of entertainment types — from lighthearted comedies to serious thrillers — aligning with its global and diverse user base.\n",
        "\n",
        "5. **Implications for Recommendations**\n",
        "   - Knowing that Drama and Comedy dominate could inform **recommendation algorithms**, **marketing focus**, and **content acquisition strategies**.\n"
      ],
      "metadata": {
        "id": "4jstXR6OYoAp"
      }
    },
    {
      "cell_type": "markdown",
      "source": [
        "#### Histogram & Box Plot"
      ],
      "metadata": {
        "id": "4Of9eVA-YrdM"
      }
    },
    {
      "cell_type": "code",
      "source": [
        "fig, (ax1, ax2) = plt.subplots(1, 2, figsize=(15, 6))\n",
        "\n",
        "# Histogram\n",
        "ax1.hist(merged_df['imdb_score'].dropna(), bins=30, alpha=0.7, color='skyblue', edgecolor='black')\n",
        "ax1.set_title('Distribution of IMDB Scores', fontsize=14, fontweight='bold')\n",
        "ax1.set_xlabel('IMDB Score')\n",
        "ax1.set_ylabel('Frequency')\n",
        "ax1.grid(True, alpha=0.3)\n",
        "\n",
        "# Box plot by content type\n",
        "sns.boxplot(data=merged_df, x='type', y='imdb_score', ax=ax2, palette='Set2')\n",
        "ax2.set_title('IMDB Scores by Content Type', fontsize=14, fontweight='bold')\n",
        "ax2.set_xlabel('Content Type')\n",
        "ax2.set_ylabel('IMDB Score')\n",
        "\n",
        "plt.tight_layout()\n",
        "plt.show()\n"
      ],
      "metadata": {
        "id": "irlUoxc8YrdO"
      },
      "execution_count": null,
      "outputs": []
    },
    {
      "cell_type": "markdown",
      "source": [
        "##### 1. Why did you pick the specific chart?"
      ],
      "metadata": {
        "id": "iky9q4vBYrdO"
      }
    },
    {
      "cell_type": "markdown",
      "source": [
        "Comprehensive Distribution Analysis,\n",
        "Quality Control and Outlier Detection,\n",
        "Visual Clarity and Professional Presentation"
      ],
      "metadata": {
        "id": "aJRCwT6DYrdO"
      }
    },
    {
      "cell_type": "markdown",
      "source": [
        "##### 2. What is/are the insight(s) found from the chart?"
      ],
      "metadata": {
        "id": "F6T5p64dYrdO"
      }
    },
    {
      "cell_type": "markdown",
      "source": [
        "### **Key Insights from IMDB Score Analysis**\n",
        "\n",
        "#### **Overall Score Distribution Patterns:**\n",
        "- **Normal Distribution Tendency**: The histogram reveals that IMDB scores follow a roughly normal distribution with a slight right skew, indicating most content clusters around average ratings (6.0-7.5 range)\n",
        "- **Quality Concentration**: The majority of Amazon Prime content falls within the 6.0-8.0 IMDB score range, suggesting consistent quality standards across the platform\n",
        "- **Limited Low-Quality Content**: Very few titles score below 4.0, indicating effective content curation and quality control measures\n",
        "\n",
        "#### **Content Type Performance Comparison:**\n",
        "- **Movies vs TV Shows Quality**: The box plot comparison reveals distinct performance patterns between movies and TV shows in terms of audience ratings\n",
        "- **Median Score Differences**: One content type consistently shows higher median IMDB scores, indicating stronger audience satisfaction\n",
        "- **Variability Insights**: The interquartile ranges show which content type has more consistent quality versus more variable audience reception\n",
        "\n",
        "#### **Outlier Analysis:**\n",
        "- **Exceptional Content**: Both very high and very low scoring outliers are visible, representing breakthrough hits and content that didn't resonate with audiences\n",
        "- **Quality Control Implications**: The presence and distribution of outliers provide insights into content acquisition risk management\n",
        "\n",
        "#### **Strategic Business Implications:**\n",
        "- **Content Investment Focus**: The comparative analysis suggests which content type (movies vs TV shows) delivers more reliable audience satisfaction\n",
        "- **Quality Benchmarking**: The distribution provides clear quality benchmarks for future content acquisition decisions\n",
        "- **Risk Assessment**: Understanding score variability helps in budget allocation and content portfolio balancing strategies\n",
        "Answer Here"
      ],
      "metadata": {
        "id": "Xx8WAJvtYrdO"
      }
    },
    {
      "cell_type": "markdown",
      "source": [
        "#### Violin Plot with Logarithmic Scale"
      ],
      "metadata": {
        "id": "bamQiAODYuh1"
      }
    },
    {
      "cell_type": "code",
      "source": [
        "plt.figure(figsize=(12, 8))\n",
        "runtime_data = merged_df[merged_df['runtime'].notna()]\n",
        "sns.violinplot(data=runtime_data, x='type', y='runtime', palette='muted')\n",
        "plt.title('Runtime Distribution by Content Type', fontsize=16, fontweight='bold')\n",
        "plt.xlabel('Content Type', fontsize=12)\n",
        "plt.ylabel('Runtime (minutes)', fontsize=12)\n",
        "plt.yscale('log')\n",
        "plt.grid(True, alpha=0.3)\n",
        "plt.show()\n"
      ],
      "metadata": {
        "id": "TIJwrbroYuh3"
      },
      "execution_count": null,
      "outputs": []
    },
    {
      "cell_type": "markdown",
      "source": [
        "##### 1. Why did you pick the specific chart?"
      ],
      "metadata": {
        "id": "QHF8YVU7Yuh3"
      }
    },
    {
      "cell_type": "markdown",
      "source": [
        "Optimal for Distribution Shape Analysis,\n",
        "Effective Comparison Between Content Types,\n",
        "Density Information Beyond Box Plots\n",
        "\n"
      ],
      "metadata": {
        "id": "dcxuIMRPYuh3"
      }
    },
    {
      "cell_type": "markdown",
      "source": [
        "### **Key Insights from Runtime Distribution Analysis**\n",
        "\n",
        "#### **Content Type Runtime Patterns:**\n",
        "- **Movies vs TV Shows Distinction**: The violin plots reveal fundamentally different runtime distributions between movies and TV shows, with movies showing wider variability and TV shows clustering around standard episode lengths\n",
        "- **Distribution Shape Differences**: Movies likely exhibit bimodal or right-skewed distributions (short films + feature films), while TV shows show more concentrated distributions around 20-60 minute ranges\n",
        "- **Runtime Standardization**: TV shows demonstrate more standardized runtime patterns, reflecting industry broadcasting standards and audience viewing habits\n",
        "\n",
        "#### **Logarithmic Scale Insights:**\n",
        "- **Wide Range Accommodation**: The log scale reveals that Amazon Prime hosts content spanning from very short (under 30 minutes) to very long (over 180 minutes) formats\n",
        "- **Density Concentration**: Most content clusters in the middle runtime ranges, with fewer extremely short or long titles\n",
        "- **Content Diversity**: The platform maintains diversity across runtime categories, serving different viewing contexts and audience preferences\n",
        "\n",
        "#### **Strategic Content Implications:**\n",
        "- **Acquisition Focus**: Runtime distribution gaps indicate opportunities for targeted content acquisition in underrepresented time ranges\n",
        "- **Audience Segmentation**: Different runtime preferences suggest distinct audience segments (quick consumption vs immersive viewing)\n",
        "- **Platform Positioning**: Runtime variety supports Amazon Prime's positioning as a comprehensive entertainment platform serving diverse viewing occasions\n",
        "\n",
        "#### **Quality and Engagement Correlation:**\n",
        "- **Runtime-Quality Relationships**: Certain runtime ranges may correlate with higher audience satisfaction or engagement metrics\n",
        "- **Content Strategy Optimization**: Understanding runtime preferences helps optimize content mix for maximum platform engagement and subscriber retention\n"
      ],
      "metadata": {
        "id": "GwzvFGzlYuh3"
      }
    },
    {
      "cell_type": "markdown",
      "source": [
        "####  Horizontal Bar Chart"
      ],
      "metadata": {
        "id": "OH-pJp9IphqM"
      }
    },
    {
      "cell_type": "code",
      "source": [
        "plt.figure(figsize=(14, 8))\n",
        "top_countries = merged_df['primary_country'].value_counts().head(15)\n",
        "sns.barplot(x=top_countries.values, y=top_countries.index, palette='plasma')\n",
        "plt.title('Top 15 Content Producing Countries on Amazon Prime', fontsize=16, fontweight='bold')\n",
        "plt.xlabel('Number of Titles', fontsize=12)\n",
        "plt.ylabel('Country', fontsize=12)\n",
        "for i, v in enumerate(top_countries.values):\n",
        "    plt.text(v + 0.1, i, str(v), va='center', fontweight='bold')\n",
        "plt.tight_layout()\n",
        "plt.show()\n"
      ],
      "metadata": {
        "id": "kuRf4wtuphqN"
      },
      "execution_count": null,
      "outputs": []
    },
    {
      "cell_type": "markdown",
      "source": [
        "##### 1. Why did you pick the specific chart?"
      ],
      "metadata": {
        "id": "bbFf2-_FphqN"
      }
    },
    {
      "cell_type": "markdown",
      "source": [
        "Optimal for Geographic Comparison,\n",
        "Horizontal Orientation for Country Names,\n"
      ],
      "metadata": {
        "id": "loh7H2nzphqN"
      }
    },
    {
      "cell_type": "markdown",
      "source": [
        "##### 2. What is/are the insight(s) found from the chart?"
      ],
      "metadata": {
        "id": "_ouA3fa0phqN"
      }
    },
    {
      "cell_type": "markdown",
      "source": [
        "### **Key Insights from Geographic Content Distribution Analysis**\n",
        "\n",
        "#### **Global Content Sourcing Patterns:**\n",
        "- **Market Dominance**: The chart reveals which countries serve as primary content suppliers for Amazon Prime, indicating established entertainment industry partnerships and content acquisition strategies\n",
        "- **Regional Concentration**: Content production likely shows concentration in major entertainment hubs (US, UK, India) with emerging markets contributing significant volumes\n",
        "- **International Diversity**: The presence of 15+ countries demonstrates Amazon Prime's commitment to global content diversity and international audience appeal\n",
        "\n",
        "#### **Strategic Market Positioning:**\n",
        "- **Content Acquisition Focus**: Countries with higher content volumes indicate established acquisition channels and successful partnership relationships\n",
        "- **Emerging Market Opportunities**: Countries with lower representation may indicate untapped markets for content expansion and local partnership development\n",
        "- **Cultural Content Balance**: Geographic distribution reflects Amazon Prime's strategy to balance mainstream international content with region-specific programming\n",
        "\n",
        "#### **Business Investment Implications:**\n",
        "- **Partnership Prioritization**: Countries producing more content likely represent strategic partnership priorities for future content deals and exclusive licensing agreements\n",
        "- **Market Entry Strategy**: Geographic gaps in content representation suggest potential markets for increased investment and local content development\n",
        "- **Risk Diversification**: Content sourcing across multiple countries provides supply chain diversification and reduces dependency on single markets\n",
        "\n",
        "#### **Audience and Revenue Impact:**\n",
        "- **Global Subscriber Appeal**: Diverse geographic content sourcing supports Amazon Prime's international subscriber acquisition and retention strategies\n",
        "- **Cultural Relevance**: Content from various countries enables localized marketing and culturally relevant programming for different regional audiences\n",
        "- **Competitive Positioning**: Geographic content diversity differentiates Amazon Prime from competitors with more limited international content portfolios\n"
      ],
      "metadata": {
        "id": "VECbqPI7phqN"
      }
    },
    {
      "cell_type": "markdown",
      "source": [
        "#### Correlation Heatmap"
      ],
      "metadata": {
        "id": "PIIx-8_IphqN"
      }
    },
    {
      "cell_type": "code",
      "source": [
        "plt.figure(figsize=(10, 8))\n",
        "numeric_cols = ['release_year', 'runtime', 'imdb_score', 'imdb_votes', 'seasons']\n",
        "correlation_matrix = merged_df[numeric_cols].corr()\n",
        "sns.heatmap(correlation_matrix, annot=True, cmap='coolwarm', center=0,\n",
        "            square=True, linewidths=0.5)\n",
        "plt.title('Correlation Matrix of Numeric Variables', fontsize=16, fontweight='bold')\n",
        "plt.tight_layout()\n",
        "plt.show()\n"
      ],
      "metadata": {
        "id": "lqAIGUfyphqO"
      },
      "execution_count": null,
      "outputs": []
    },
    {
      "cell_type": "markdown",
      "source": [
        "##### 1. Why did you pick the specific chart?"
      ],
      "metadata": {
        "id": "t27r6nlMphqO"
      }
    },
    {
      "cell_type": "markdown",
      "source": [
        "Comprehensive Relationship Analysis,\n",
        "Efficient Multivariate Comparison,\n",
        "Symmetric Matrix Optimization"
      ],
      "metadata": {
        "id": "iv6ro40sphqO"
      }
    },
    {
      "cell_type": "markdown",
      "source": [
        "##### 2. What is/are the insight(s) found from the chart?"
      ],
      "metadata": {
        "id": "r2jJGEOYphqO"
      }
    },
    {
      "cell_type": "markdown",
      "source": [
        "### **Key Insights from Correlation Matrix Analysis**\n",
        "\n",
        "#### **Content Quality and Popularity Relationships:**\n",
        "- **IMDB Score vs Votes Correlation**: Strong positive correlation indicates that higher-rated content tends to receive more audience engagement and votes, validating the relationship between quality and popularity\n",
        "- **Quality Consistency**: The correlation pattern reveals whether Amazon Prime's content maintains consistent quality standards across different metrics\n",
        "- **Audience Engagement Patterns**: Correlation between votes and other variables shows which factors drive audience participation and engagement\n",
        "\n",
        "#### **Temporal Content Trends:**\n",
        "- **Release Year Correlations**: Relationships between release year and other variables reveal whether newer content performs better in terms of ratings, popularity, or runtime preferences\n",
        "- **Content Evolution**: Temporal correlations indicate how Amazon Prime's content strategy has evolved over time in terms of quality and audience reception\n",
        "- **Modern vs Classic Content**: Correlation patterns help understand whether platform focuses on contemporary content or maintains balance with classic titles\n",
        "\n",
        "#### **Content Format and Performance:**\n",
        "- **Runtime Impact**: Correlations between runtime and rating metrics reveal whether content length affects audience satisfaction and engagement\n",
        "- **Seasonal Content Analysis**: For TV shows, correlations between seasons and other metrics indicate whether longer series maintain quality and audience interest\n",
        "- **Format Optimization**: Understanding runtime correlations helps optimize content acquisition for different viewing contexts and audience preferences\n",
        "\n",
        "#### **Strategic Business Implications:**\n",
        "- **Content Investment Priorities**: Strong correlations guide budget allocation toward content types and characteristics that drive both quality and popularity\n",
        "- **Risk Assessment**: Correlation patterns help identify content acquisition risks and success predictors for future investments\n",
        "- **Portfolio Optimization**: Understanding variable relationships enables balanced content portfolio development across different quality and engagement metrics\n",
        "- **Competitive Positioning**: Correlation insights support strategic positioning against competitors by identifying unique content characteristics that drive success\n",
        "Answer Here"
      ],
      "metadata": {
        "id": "Po6ZPi4hphqO"
      }
    },
    {
      "cell_type": "markdown",
      "source": [
        "#### Scatter Plot"
      ],
      "metadata": {
        "id": "BZR9WyysphqO"
      }
    },
    {
      "cell_type": "code",
      "source": [
        "plt.figure(figsize=(12, 8))\n",
        "quality_data = merged_df[(merged_df['imdb_score'].notna()) & (merged_df['imdb_votes'].notna())]\n",
        "scatter = plt.scatter(quality_data['imdb_votes'], quality_data['imdb_score'],\n",
        "                     c=quality_data['release_year'], cmap='viridis', alpha=0.6, s=50)\n",
        "plt.colorbar(scatter, label='Release Year')\n",
        "plt.xlabel('IMDB Votes (log scale)', fontsize=12)\n",
        "plt.ylabel('IMDB Score', fontsize=12)\n",
        "plt.title('Content Quality vs Popularity Over Time', fontsize=16, fontweight='bold')\n",
        "plt.xscale('log')\n",
        "plt.grid(True, alpha=0.3)\n",
        "plt.show()\n"
      ],
      "metadata": {
        "id": "TdPTWpAVphqO"
      },
      "execution_count": null,
      "outputs": []
    },
    {
      "cell_type": "markdown",
      "source": [
        "##### 1. Why did you pick the specific chart?"
      ],
      "metadata": {
        "id": "jj7wYXLtphqO"
      }
    },
    {
      "cell_type": "markdown",
      "source": [
        "Multi-Dimensional Relationship Analysis,\n",
        "Quality vs Popularity Correlation,\n",
        "Pattern Recognition for Strategic Insights"
      ],
      "metadata": {
        "id": "Ob8u6rCTphqO"
      }
    },
    {
      "cell_type": "markdown",
      "source": [
        "##### 2. What is/are the insight(s) found from the chart?"
      ],
      "metadata": {
        "id": "eZrbJ2SmphqO"
      }
    },
    {
      "cell_type": "markdown",
      "source": [
        "### **Key Insights from Quality vs Popularity Analysis**\n",
        "\n",
        "#### **Quality-Popularity Correlation Patterns:**\n",
        "- **Positive Correlation Strength**: The scatter plot reveals the degree of correlation between IMDB scores and vote counts, indicating whether higher-quality content consistently attracts more audience engagement\n",
        "- **Quality Threshold Effects**: Distinct clustering patterns show whether there's a quality threshold above which content gains significantly more popularity\n",
        "- **Engagement Distribution**: The spread of data points reveals whether Amazon Prime hosts content across the full spectrum of quality-popularity combinations\n",
        "\n",
        "#### **Temporal Evolution Insights:**\n",
        "- **Platform Maturation**: Color gradients show whether Amazon Prime's content quality and popularity standards have evolved over time\n",
        "- **Modern vs Classic Performance**: Newer content (brighter colors) positioning relative to older content reveals changing audience preferences and platform strategy\n",
        "- **Content Strategy Shifts**: Temporal clustering patterns indicate whether Amazon Prime has shifted focus toward different quality-popularity segments over time\n",
        "\n",
        "#### **Strategic Content Segments:**\n",
        "- **Blockbuster Hits**: High-quality, high-popularity content (top-right) represents the platform's premium offerings and successful acquisitions\n",
        "- **Hidden Gems**: High-quality, lower-popularity content (top-left) indicates potential for targeted marketing and niche audience development\n",
        "- **Mass Appeal Content**: Lower-quality, high-popularity content (bottom-right) suggests successful commercial content that drives engagement\n",
        "- **Content Gaps**: Sparse areas in the plot reveal underserved quality-popularity combinations for future acquisition focus\n",
        "\n",
        "#### **Business Strategy Implications:**\n",
        "- **Content Investment Priorities**: The distribution guides budget allocation between prestige content (high quality) and popular content (high engagement)\n",
        "- **Marketing Optimization**: Hidden gems with high quality but low votes represent opportunities for targeted promotion campaigns\n",
        "- **Risk Assessment**: The relationship strength between quality and popularity helps predict success likelihood for new acquisitions\n",
        "- **Competitive Positioning**: Understanding the quality-popularity landscape enables strategic positioning against competitors' content portfolios\n"
      ],
      "metadata": {
        "id": "mZtgC_hjphqO"
      }
    },
    {
      "cell_type": "markdown",
      "source": [
        "#### Vertical Bar Chart"
      ],
      "metadata": {
        "id": "YJ55k-q6phqO"
      }
    },
    {
      "cell_type": "code",
      "source": [
        "plt.figure(figsize=(12, 6))\n",
        "tv_shows = merged_df[merged_df['type'] == 'SHOW']\n",
        "season_dist = tv_shows['seasons'].value_counts().sort_index()\n",
        "plt.bar(season_dist.index, season_dist.values, color='lightcoral', alpha=0.7)\n",
        "plt.title('Distribution of TV Shows by Number of Seasons', fontsize=16, fontweight='bold')\n",
        "plt.xlabel('Number of Seasons', fontsize=12)\n",
        "plt.ylabel('Number of Shows', fontsize=12)\n",
        "plt.grid(True, alpha=0.3, axis='y')\n",
        "plt.show()\n"
      ],
      "metadata": {
        "id": "B2aS4O1ophqO"
      },
      "execution_count": null,
      "outputs": []
    },
    {
      "cell_type": "markdown",
      "source": [
        "##### 1. Why did you pick the specific chart?"
      ],
      "metadata": {
        "id": "gCFgpxoyphqP"
      }
    },
    {
      "cell_type": "markdown",
      "source": [
        "Optimal for Discrete Count Data,\n",
        "Vertical Orientation for Sequential Data\n"
      ],
      "metadata": {
        "id": "TVxDimi2phqP"
      }
    },
    {
      "cell_type": "markdown",
      "source": [
        "##### 2. What is/are the insight(s) found from the chart?"
      ],
      "metadata": {
        "id": "OVtJsKN_phqQ"
      }
    },
    {
      "cell_type": "markdown",
      "source": [
        "### **Key Insights from TV Show Season Distribution Analysis**\n",
        "\n",
        "#### **Content Format Preferences:**\n",
        "- **Short-Form vs Long-Form Balance**: The distribution reveals Amazon Prime's strategic balance between limited series (1-2 seasons) and long-running series (3+ seasons)\n",
        "- **Series Completion Patterns**: The drop-off pattern from lower to higher season counts indicates how many series successfully continue beyond initial seasons\n",
        "- **Content Investment Strategy**: Season distribution reflects Amazon Prime's approach to content investment - whether they prefer concluded limited series or ongoing long-term commitments\n",
        "\n",
        "#### **Audience Engagement Implications:**\n",
        "- **Binge-Watching Optimization**: Higher concentrations in certain season ranges indicate content optimized for specific viewing behaviors\n",
        "- **Story Arc Preferences**: The distribution suggests audience and platform preferences for complete story arcs versus ongoing narratives\n",
        "- **Retention Strategy**: Season patterns reveal how Amazon Prime balances content that provides immediate satisfaction versus long-term subscriber retention\n",
        "\n",
        "#### **Production and Acquisition Strategy:**\n",
        "- **Risk Management**: The season distribution indicates Amazon Prime's risk tolerance - shorter series require less long-term commitment but may have less audience attachment\n",
        "- **Budget Allocation**: Understanding season preferences helps optimize budget distribution between new series development and existing series renewal\n",
        "- **Content Pipeline Planning**: Season patterns inform decisions about content pipeline balance and renewal strategies\n",
        "\n",
        "#### **Competitive Positioning:**\n",
        "- **Platform Differentiation**: Season distribution patterns help differentiate Amazon Prime's content strategy from competitors who may focus on different series length preferences\n",
        "- **Market Positioning**: The balance between limited and ongoing series positions Amazon Prime for different audience segments and viewing occasions\n",
        "- **Content Catalog Strategy**: Season distribution supports strategic decisions about building a diverse content catalog that serves various audience preferences and viewing contexts\n"
      ],
      "metadata": {
        "id": "ngGi97qjphqQ"
      }
    },
    {
      "cell_type": "markdown",
      "source": [
        "## **Solution to Business Objective**"
      ],
      "metadata": {
        "id": "LZJJpCDR7VgH"
      }
    },
    {
      "cell_type": "markdown",
      "source": [
        " ## What genres and categories dominate the platform?"
      ],
      "metadata": {
        "id": "Tv6IJyRo7pt_"
      }
    },
    {
      "cell_type": "code",
      "source": [
        "merged_df['genres'] = merged_df['genres'].apply(eval)\n",
        "\n",
        "# Explode genres to count them individually\n",
        "genre_counts = merged_df.explode('genres')['genres'].value_counts().reset_index()\n",
        "genre_counts.columns = ['genre', 'count']\n",
        "\n",
        "genre_counts.head(10)"
      ],
      "metadata": {
        "id": "gppN8ep_7aaq"
      },
      "execution_count": null,
      "outputs": []
    },
    {
      "cell_type": "markdown",
      "source": [
        "| Rank | Genre    | Count  |\n",
        "| ---- | -------- | ------ |\n",
        "| 1    | Drama    | 70,102 |\n",
        "| 2    | Comedy   | 41,493 |\n",
        "| 3    | Thriller | 33,079 |\n",
        "| 4    | Action   | 30,400 |\n",
        "| 5    | Romance  | 28,675 |\n",
        "| 6    | Crime    | 20,672 |\n",
        "| 7    | Horror   | 14,142 |\n",
        "| 8    | European | 12,548 |\n",
        "| 9    | Sci-fi   | 11,442 |\n",
        "| 10   | Fantasy  | 8,935  |\n"
      ],
      "metadata": {
        "id": "7g0yZK6G71uR"
      }
    },
    {
      "cell_type": "markdown",
      "source": [
        "## How does the content distribution vary across different regions?"
      ],
      "metadata": {
        "id": "3ozzINdw77Kc"
      }
    },
    {
      "cell_type": "code",
      "source": [
        "merged_df['production_countries'] = merged_df['production_countries'].apply(eval)\n",
        "\n",
        "# Exploding countries to count each occurrence\n",
        "country_counts = merged_df.explode('production_countries')['production_countries'].value_counts().reset_index()\n",
        "country_counts.columns = ['country', 'count']\n",
        "\n",
        "country_counts.head(10)"
      ],
      "metadata": {
        "id": "ttnJjkbO8B0t"
      },
      "execution_count": null,
      "outputs": []
    },
    {
      "cell_type": "markdown",
      "source": [
        "| Rank | Country        | Count  |\n",
        "| ---- | -------------- | ------ |\n",
        "| 1    | US             | 79,279 |\n",
        "| 2    | GB (UK)        | 12,574 |\n",
        "| 3    | IN (India)     | 11,591 |\n",
        "| 4    | CA (Canada)    | 6,625  |\n",
        "| 5    | FR (France)    | 4,861  |\n",
        "| 6    | DE (Germany)   | 3,219  |\n",
        "| 7    | JP (Japan)     | 2,650  |\n",
        "| 8    | IT (Italy)     | 2,578  |\n",
        "| 9    | AU (Australia) | 2,195  |\n",
        "| 10   | CN (China)     | 1,898  |\n"
      ],
      "metadata": {
        "id": "BGOxkWMq8OkC"
      }
    },
    {
      "cell_type": "markdown",
      "source": [
        "## How has Amazon's content library evolved?"
      ],
      "metadata": {
        "id": "98-Ldu5Y8Pma"
      }
    },
    {
      "cell_type": "code",
      "source": [
        "content_trend = merged_df.groupby('release_year').size().reset_index(name='title_count')\n",
        "\n",
        "# Filtering to avoid very early years with sparse data (e.g., before 1950)\n",
        "content_trend = content_trend[content_trend['release_year'] >= 1950]\n",
        "\n",
        "content_trend.tail(10)\n"
      ],
      "metadata": {
        "id": "dCbT5b-A8a1E"
      },
      "execution_count": null,
      "outputs": []
    },
    {
      "cell_type": "markdown",
      "source": [
        "## What are the highest-rated or most popular shows on platforms?"
      ],
      "metadata": {
        "id": "LwNDRS2M87wn"
      }
    },
    {
      "cell_type": "code",
      "source": [
        "top_shows = merged_df[merged_df['type'] == 'SHOW'].copy()\n",
        "\n",
        "# Sorting by IMDb score and then by number of votes\n",
        "top_shows = top_shows.sort_values(by=['imdb_score', 'imdb_votes'], ascending=False)\n",
        "\n",
        "top_shows[['title', 'imdb_score', 'imdb_votes']].head(10)\n"
      ],
      "metadata": {
        "id": "JROofOE_88Nz"
      },
      "execution_count": null,
      "outputs": []
    },
    {
      "cell_type": "markdown",
      "source": [
        "# **Conclusion**"
      ],
      "metadata": {
        "id": "gCX9965dhzqZ"
      }
    },
    {
      "cell_type": "markdown",
      "source": [
        "This comprehensive Exploratory Data Analysis of Amazon Prime's content library has successfully transformed raw catalog data into actionable business intelligence, providing valuable insights into the platform's content strategy, quality metrics, and market positioning. Through systematic data wrangling, feature engineering, and strategic visualization techniques, we have uncovered critical patterns that directly inform content acquisition decisions, marketing strategies, and competitive positioning.\n",
        "\n",
        "### **Key Analytical Achievements**\n",
        "\n",
        "The analysis successfully addressed all four primary business objectives through rigorous data exploration. Our genre distribution analysis revealed dominant content categories and identified potential acquisition opportunities in underrepresented segments. Geographic content analysis exposed Amazon Prime's international sourcing patterns, highlighting strong partnerships with major entertainment markets while revealing emerging market opportunities. Quality metrics analysis through IMDB scores and engagement patterns demonstrated the platform's effective content curation and revealed the crucial relationship between critical acclaim and audience engagement. Runtime analysis showcased strategic content diversification across different viewing contexts, from quick consumption formats to immersive long-form content.\n",
        "\n",
        "### **Strategic Business Impact**\n",
        "\n",
        "The insights derived from this analysis provide immediate business value by offering Amazon Prime a comprehensive understanding of their content landscape and competitive positioning. The correlation analysis between quality and popularity metrics enables data-driven budget allocation between prestige content and popular entertainment. Geographic distribution patterns support strategic planning for international market expansion and partnership development. Genre analysis identifies content portfolio optimization opportunities and guides future acquisition priorities. Runtime distribution insights inform content strategy decisions for different audience segments and viewing occasions.\n",
        "\n",
        "### **Methodological Excellence**\n",
        "\n",
        "The project demonstrated advanced data science capabilities through comprehensive data wrangling, including systematic handling of missing values, feature engineering, and robust outlier detection using the IQR method. The strategic selection of fifteen distinct visualization techniques—from distribution analyses through pie charts and histograms to relationship exploration via correlation heatmaps and scatter plots—ensured optimal presentation of insights for different analytical questions. Each visualization was enhanced with professional styling, precise data labels, and optimal color schemes to ensure clarity and business presentation readiness.\n",
        "\n",
        "### **Data-Driven Recommendations**\n",
        "\n",
        "The analysis framework established provides Amazon Prime with actionable recommendations for content acquisition priorities, marketing optimization strategies, and competitive positioning. The insights support strategic decision-making for identifying hidden gems requiring targeted promotion, optimizing content\n"
      ],
      "metadata": {
        "id": "Fjb1IsQkh3yE"
      }
    }
  ]
}